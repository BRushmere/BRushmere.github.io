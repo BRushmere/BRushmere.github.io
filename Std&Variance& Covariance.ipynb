{
 "cells": [
  {
   "cell_type": "code",
   "execution_count": 4,
   "metadata": {},
   "outputs": [
    {
     "name": "stdout",
     "output_type": "stream",
     "text": [
      "5y\n",
      "5y\n",
      "5y\n",
      "5y\n",
      "Returns over 2016\n",
      "AAPL    0.117220\n",
      "AMZN    0.163796\n",
      "MSFT    0.153380\n",
      "JPM     0.328525\n",
      "dtype: float64\n",
      "Covariance matrix over 2016\n",
      "          AAPL      AMZN      MSFT       JPM\n",
      "AAPL  0.054846  0.024840  0.026335  0.020245\n",
      "AMZN  0.024840  0.084697  0.033023  0.016624\n",
      "MSFT  0.026335  0.033023  0.051643  0.024474\n",
      "JPM   0.020245  0.016624  0.024474  0.059632\n"
     ]
    }
   ],
   "source": [
    "import pandas as pd\n",
    "pd.core.common.is_list_like = pd.api.types.is_list_like\n",
    "import pandas_datareader.data as web\n",
    "import numpy as np\n",
    "from datetime import datetime\n",
    "import scipy.stats as sts\n",
    "import pprint\n",
    "start = datetime(2016, 1, 1)\n",
    "end = datetime(2017, 1, 1)\n",
    "\n",
    "Symbols = ['AAPL','AMZN','MSFT','JPM']\n",
    "noa = len(Symbols)\n",
    "\n",
    "data = pd.DataFrame()\n",
    "\n",
    "for sym in Symbols:\n",
    "    data[sym] = web.DataReader(sym,'iex', start, end)['close']\n",
    "  \n",
    "\n",
    "\n",
    "returns = data/data.iloc[0]\n",
    "log_returns= np.log(data/data.shift(1))\n",
    "\n",
    "print('Returns over 2016')\n",
    "print(log_returns.mean()*252)\n",
    "print('Covariance matrix over 2016')\n",
    "print(log_returns.cov()*252)"
   ]
  },
  {
   "cell_type": "code",
   "execution_count": 8,
   "metadata": {},
   "outputs": [
    {
     "data": {
      "text/latex": [
       "$$\\mu_p = E\\sum_{I}w_ir_i$$\n",
       "$$\\\\[10pt]$$\n",
       "$$\\Sigma = \\begin{bmatrix} \n",
       "\\sigma_1^2 & \\sigma_{12} & ... & \\sigma_{1I} \\\\\n",
       "\\sigma_{21} & \\sigma_2^2 & ... & \\sigma_{2I} \\\\\n",
       "\\vdots & \\vdots & \\ddots & \\vdots \\\\\n",
       "\\sigma_I^2 & \\sigma_{I2} & ... & \\sigma_{I}^2\n",
       "\\end{bmatrix}$$\n",
       "$$\\\\[10pt]$$\n",
       "$$\\sigma_p^2 = E((r-\\mu)^2)= \\sum_{i \\in I}\\sum_{j \\in I}w_iw_j\\sigma_{ij}= w^T\\Sigma w$$"
      ],
      "text/plain": [
       "<IPython.core.display.Latex object>"
      ]
     },
     "metadata": {},
     "output_type": "display_data"
    }
   ],
   "source": [
    "%%latex\n",
    "$$\\mu_p = E\\sum_{I}w_ir_i$$\n",
    "$$\\\\[10pt]$$\n",
    "$$\\Sigma = \\begin{bmatrix} \n",
    "\\sigma_1^2 & \\sigma_{12} & ... & \\sigma_{1I} \\\\\n",
    "\\sigma_{21} & \\sigma_2^2 & ... & \\sigma_{2I} \\\\\n",
    "\\vdots & \\vdots & \\ddots & \\vdots \\\\\n",
    "\\sigma_I^2 & \\sigma_{I2} & ... & \\sigma_{I}^2\n",
    "\\end{bmatrix}$$\n",
    "$$\\\\[10pt]$$\n",
    "$$\\sigma_p^2 = E((r-\\mu)^2)= \\sum_{i \\in I}\\sum_{j \\in I}w_iw_j\\sigma_{ij}= w^T\\Sigma w$$\n"
   ]
  },
  {
   "cell_type": "code",
   "execution_count": 9,
   "metadata": {},
   "outputs": [
    {
     "data": {
      "text/plain": [
       "array([0.26645748, 0.41450906, 0.15893335, 0.1601001 ])"
      ]
     },
     "execution_count": 9,
     "metadata": {},
     "output_type": "execute_result"
    }
   ],
   "source": [
    "#randomly assigned weights to assets\n",
    "weights = np.random.random(noa)\n",
    "weights /= np.sum(weights)\n",
    "weights"
   ]
  },
  {
   "cell_type": "code",
   "execution_count": 10,
   "metadata": {},
   "outputs": [
    {
     "data": {
      "text/plain": [
       "0.17610322609900533"
      ]
     },
     "execution_count": 10,
     "metadata": {},
     "output_type": "execute_result"
    }
   ],
   "source": [
    "# expected portfolio return\n",
    "np.sum(log_returns.mean() * weights) * 252"
   ]
  },
  {
   "cell_type": "code",
   "execution_count": 11,
   "metadata": {},
   "outputs": [
    {
     "data": {
      "text/plain": [
       "0.03852738349874912"
      ]
     },
     "execution_count": 11,
     "metadata": {},
     "output_type": "execute_result"
    }
   ],
   "source": [
    "np.dot(weights.T, np.dot(log_returns.cov() * 252, weights))\n",
    "# expected portfolio variance"
   ]
  },
  {
   "cell_type": "code",
   "execution_count": null,
   "metadata": {},
   "outputs": [],
   "source": []
  }
 ],
 "metadata": {
  "kernelspec": {
   "display_name": "Python 3",
   "language": "python",
   "name": "python3"
  },
  "language_info": {
   "codemirror_mode": {
    "name": "ipython",
    "version": 3
   },
   "file_extension": ".py",
   "mimetype": "text/x-python",
   "name": "python",
   "nbconvert_exporter": "python",
   "pygments_lexer": "ipython3",
   "version": "3.6.5"
  }
 },
 "nbformat": 4,
 "nbformat_minor": 2
}
