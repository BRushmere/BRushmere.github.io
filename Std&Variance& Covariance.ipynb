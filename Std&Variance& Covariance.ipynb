{
 "cells": [
  {
   "cell_type": "code",
   "execution_count": 23,
   "metadata": {},
   "outputs": [
    {
     "name": "stdout",
     "output_type": "stream",
     "text": [
      "5y\n",
      "5y\n",
      "5y\n",
      "5y\n",
      "AAPL    0.127052\n",
      "AMZN    0.424904\n",
      "MSFT    0.240319\n",
      "JPM     0.198426\n",
      "dtype: float64\n",
      "          AAPL      AMZN      MSFT       JPM\n",
      "AAPL  0.054432  0.025776  0.026848  0.022789\n",
      "AMZN  0.025776  0.078883  0.036250  0.021191\n",
      "MSFT  0.026848  0.036250  0.051916  0.024806\n",
      "JPM   0.022789  0.021191  0.024806  0.049220\n"
     ]
    }
   ],
   "source": [
    "import pandas as pd\n",
    "pd.core.common.is_list_like = pd.api.types.is_list_like\n",
    "import pandas_datareader.data as web\n",
    "import numpy as np\n",
    "from datetime import datetime\n",
    "import scipy.stats as sts\n",
    "import pprint\n",
    "start = datetime(2015, 2, 9)\n",
    "end = datetime(2017, 5, 24)\n",
    "\n",
    "Symbols = ['AAPL','AMZN','MSFT','JPM']\n",
    "noa = len(Symbols)\n",
    "\n",
    "data = pd.DataFrame()\n",
    "\n",
    "for sym in Symbols:\n",
    "    data[sym] = web.DataReader(sym,'iex', start, end)['close']\n",
    "  \n",
    "\n",
    "\n",
    "returns = data/data.iloc[0]\n",
    "log_returns= np.log(data/data.shift(1))\n",
    "\n",
    "print(log_returns.mean()*252)\n",
    "print(log_returns.cov()*252)"
   ]
  },
  {
   "cell_type": "code",
   "execution_count": 19,
   "metadata": {},
   "outputs": [
    {
     "data": {
      "text/latex": [
       "$$\\mu_p = E\\sum_{I}w_ir_i$$\n",
       "$$\\Sigma = \\begin{bmatrix} \n",
       "\\sigma_1^2 & \\sigma_{12} & ... & \\sigma_{1I} \\\\\n",
       "\\sigma_{21} & \\sigma_2^2 & ... & \\sigma_{2I} \\\\\n",
       "\\vdots & \\vdots & \\ddots & \\vdots \\\\\n",
       "\\sigma_I^2 & \\sigma_{I2} & ... & \\sigma_{I}^2\n",
       "\\end{bmatrix}$$\n",
       "$$\\sigma_p^2 = E((r-\\mu)^2)= \\Sigma_{i \\in I}\\Sigma_{j \\in I}w_iw_j\\sigma_{ij}= w^T\\Sigma w$$"
      ],
      "text/plain": [
       "<IPython.core.display.Latex object>"
      ]
     },
     "metadata": {},
     "output_type": "display_data"
    }
   ],
   "source": [
    "%%latex\n",
    "$$\\mu_p = E\\sum_{I}w_ir_i$$\n",
    "$$\\Sigma = \\begin{bmatrix} \n",
    "\\sigma_1^2 & \\sigma_{12} & ... & \\sigma_{1I} \\\\\n",
    "\\sigma_{21} & \\sigma_2^2 & ... & \\sigma_{2I} \\\\\n",
    "\\vdots & \\vdots & \\ddots & \\vdots \\\\\n",
    "\\sigma_I^2 & \\sigma_{I2} & ... & \\sigma_{I}^2\n",
    "\\end{bmatrix}$$\n",
    "$$\\sigma_p^2 = E((r-\\mu)^2)= \\Sigma_{i \\in I}\\Sigma_{j \\in I}w_iw_j\\sigma_{ij}= w^T\\Sigma w$$\n"
   ]
  },
  {
   "cell_type": "code",
   "execution_count": 25,
   "metadata": {},
   "outputs": [
    {
     "data": {
      "text/plain": [
       "array([0.1391871 , 0.3489349 , 0.39674003, 0.11513796])"
      ]
     },
     "execution_count": 25,
     "metadata": {},
     "output_type": "execute_result"
    }
   ],
   "source": [
    "#randomly assigned weights to assets\n",
    "weights = np.random.random(noa)\n",
    "weights /= np.sum(weights)\n",
    "weights"
   ]
  },
  {
   "cell_type": "code",
   "execution_count": 27,
   "metadata": {},
   "outputs": [
    {
     "data": {
      "text/plain": [
       "0.2841382240571784"
      ]
     },
     "execution_count": 27,
     "metadata": {},
     "output_type": "execute_result"
    }
   ],
   "source": [
    "# expected portfolio return\n",
    "np.sum(log_returns.mean() * weights) * 252"
   ]
  },
  {
   "cell_type": "code",
   "execution_count": 28,
   "metadata": {},
   "outputs": [
    {
     "data": {
      "text/plain": [
       "0.03968808671876598"
      ]
     },
     "execution_count": 28,
     "metadata": {},
     "output_type": "execute_result"
    }
   ],
   "source": [
    "np.dot(weights.T, np.dot(log_returns.cov() * 252, weights))\n",
    "# expected portfolio variance"
   ]
  },
  {
   "cell_type": "code",
   "execution_count": null,
   "metadata": {},
   "outputs": [],
   "source": []
  }
 ],
 "metadata": {
  "kernelspec": {
   "display_name": "Python 3",
   "language": "python",
   "name": "python3"
  },
  "language_info": {
   "codemirror_mode": {
    "name": "ipython",
    "version": 3
   },
   "file_extension": ".py",
   "mimetype": "text/x-python",
   "name": "python",
   "nbconvert_exporter": "python",
   "pygments_lexer": "ipython3",
   "version": "3.6.5"
  }
 },
 "nbformat": 4,
 "nbformat_minor": 2
}
