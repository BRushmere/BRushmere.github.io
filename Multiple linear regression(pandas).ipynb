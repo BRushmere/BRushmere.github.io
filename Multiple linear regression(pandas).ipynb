{
 "cells": [
  {
   "cell_type": "code",
   "execution_count": 1,
   "metadata": {},
   "outputs": [
    {
     "name": "stdout",
     "output_type": "stream",
     "text": [
      "5y\n",
      "5y\n",
      "5y\n",
      "                            OLS Regression Results                            \n",
      "==============================================================================\n",
      "Dep. Variable:                    SPY   R-squared:                       0.993\n",
      "Model:                            OLS   Adj. R-squared:                  0.993\n",
      "Method:                 Least Squares   F-statistic:                 4.234e+04\n",
      "Date:                Thu, 27 Sep 2018   Prob (F-statistic):               0.00\n",
      "Time:                        15:33:46   Log-Likelihood:                -2446.1\n",
      "No. Observations:                 578   AIC:                             4896.\n",
      "Df Residuals:                     576   BIC:                             4905.\n",
      "Df Model:                           2                                         \n",
      "Covariance Type:            nonrobust                                         \n",
      "==============================================================================\n",
      "                 coef    std err          t      P>|t|      [0.025      0.975]\n",
      "------------------------------------------------------------------------------\n",
      "MSFT           6.0803      0.117     51.965      0.000       5.850       6.310\n",
      "AMZN          -0.1683      0.009    -18.665      0.000      -0.186      -0.151\n",
      "==============================================================================\n",
      "Omnibus:                      676.619   Durbin-Watson:                   0.036\n",
      "Prob(Omnibus):                  0.000   Jarque-Bera (JB):               38.797\n",
      "Skew:                           0.023   Prob(JB):                     3.76e-09\n",
      "Kurtosis:                       1.732   Cond. No.                         113.\n",
      "==============================================================================\n",
      "\n",
      "Warnings:\n",
      "[1] Standard Errors assume that the covariance matrix of the errors is correctly specified.\n"
     ]
    }
   ],
   "source": [
    "\n",
    "import pandas as pd\n",
    "pd.core.common.is_list_like = pd.api.types.is_list_like\n",
    "import pandas_datareader.data as web\n",
    "import statsmodels.api as sm\n",
    "import matplotlib.pyplot as plt\n",
    "from datetime import datetime\n",
    "import numpy as np\n",
    "start = datetime(2015, 2, 9)\n",
    "end = datetime(2017, 5, 24)\n",
    "\n",
    "Symbols = ['SPY','MSFT','AMZN']\n",
    "\n",
    "data = pd.DataFrame()\n",
    "\n",
    "for sym in Symbols:\n",
    "    data[sym] = web.DataReader(sym,'iex', start, end)['open']\n",
    "\n",
    "res = sm.OLS(data['SPY'],data[['MSFT','AMZN']]).fit()\n",
    "print(res.summary())"
   ]
  },
  {
   "cell_type": "code",
   "execution_count": null,
   "metadata": {},
   "outputs": [],
   "source": []
  }
 ],
 "metadata": {
  "kernelspec": {
   "display_name": "Python 3",
   "language": "python",
   "name": "python3"
  },
  "language_info": {
   "codemirror_mode": {
    "name": "ipython",
    "version": 3
   },
   "file_extension": ".py",
   "mimetype": "text/x-python",
   "name": "python",
   "nbconvert_exporter": "python",
   "pygments_lexer": "ipython3",
   "version": "3.6.5"
  }
 },
 "nbformat": 4,
 "nbformat_minor": 2
}
